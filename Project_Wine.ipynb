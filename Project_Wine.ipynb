{
 "cells": [
  {
   "cell_type": "code",
   "execution_count": 60,
   "metadata": {},
   "outputs": [],
   "source": [
    "import pandas as pd\n",
    "import numpy as np\n",
    "import seaborn as sns\n",
    "import matplotlib.pyplot as plt\n",
    "import warnings\n",
    "warnings.filterwarnings('ignore')"
   ]
  },
  {
   "cell_type": "code",
   "execution_count": 61,
   "metadata": {},
   "outputs": [
    {
     "data": {
      "text/html": [
       "<div>\n",
       "<style scoped>\n",
       "    .dataframe tbody tr th:only-of-type {\n",
       "        vertical-align: middle;\n",
       "    }\n",
       "\n",
       "    .dataframe tbody tr th {\n",
       "        vertical-align: top;\n",
       "    }\n",
       "\n",
       "    .dataframe thead th {\n",
       "        text-align: right;\n",
       "    }\n",
       "</style>\n",
       "<table border=\"1\" class=\"dataframe\">\n",
       "  <thead>\n",
       "    <tr style=\"text-align: right;\">\n",
       "      <th></th>\n",
       "      <th>Class</th>\n",
       "      <th>Alcohol</th>\n",
       "      <th>Malic acid</th>\n",
       "      <th>Ash</th>\n",
       "      <th>Alcalinity of ash</th>\n",
       "      <th>Magnesium</th>\n",
       "      <th>Total phenols</th>\n",
       "      <th>Flavanoids</th>\n",
       "      <th>Nonflavanoid phenols</th>\n",
       "      <th>Proanthocyanins</th>\n",
       "      <th>Color intensity</th>\n",
       "      <th>Hue</th>\n",
       "      <th>diluted wines</th>\n",
       "      <th>Proline</th>\n",
       "    </tr>\n",
       "  </thead>\n",
       "  <tbody>\n",
       "    <tr>\n",
       "      <th>0</th>\n",
       "      <td>1</td>\n",
       "      <td>14.23</td>\n",
       "      <td>1.71</td>\n",
       "      <td>2.43</td>\n",
       "      <td>15.6</td>\n",
       "      <td>127</td>\n",
       "      <td>2.80</td>\n",
       "      <td>3.06</td>\n",
       "      <td>0.28</td>\n",
       "      <td>2.29</td>\n",
       "      <td>5.64</td>\n",
       "      <td>1.04</td>\n",
       "      <td>3.92</td>\n",
       "      <td>1065</td>\n",
       "    </tr>\n",
       "    <tr>\n",
       "      <th>1</th>\n",
       "      <td>1</td>\n",
       "      <td>13.20</td>\n",
       "      <td>1.78</td>\n",
       "      <td>2.14</td>\n",
       "      <td>11.2</td>\n",
       "      <td>100</td>\n",
       "      <td>2.65</td>\n",
       "      <td>2.76</td>\n",
       "      <td>0.26</td>\n",
       "      <td>1.28</td>\n",
       "      <td>4.38</td>\n",
       "      <td>1.05</td>\n",
       "      <td>3.40</td>\n",
       "      <td>1050</td>\n",
       "    </tr>\n",
       "    <tr>\n",
       "      <th>2</th>\n",
       "      <td>1</td>\n",
       "      <td>13.16</td>\n",
       "      <td>2.36</td>\n",
       "      <td>2.67</td>\n",
       "      <td>18.6</td>\n",
       "      <td>101</td>\n",
       "      <td>2.80</td>\n",
       "      <td>3.24</td>\n",
       "      <td>0.30</td>\n",
       "      <td>2.81</td>\n",
       "      <td>5.68</td>\n",
       "      <td>1.03</td>\n",
       "      <td>3.17</td>\n",
       "      <td>1185</td>\n",
       "    </tr>\n",
       "    <tr>\n",
       "      <th>3</th>\n",
       "      <td>1</td>\n",
       "      <td>14.37</td>\n",
       "      <td>1.95</td>\n",
       "      <td>2.50</td>\n",
       "      <td>16.8</td>\n",
       "      <td>113</td>\n",
       "      <td>3.85</td>\n",
       "      <td>3.49</td>\n",
       "      <td>0.24</td>\n",
       "      <td>2.18</td>\n",
       "      <td>7.80</td>\n",
       "      <td>0.86</td>\n",
       "      <td>3.45</td>\n",
       "      <td>1480</td>\n",
       "    </tr>\n",
       "    <tr>\n",
       "      <th>4</th>\n",
       "      <td>1</td>\n",
       "      <td>13.24</td>\n",
       "      <td>2.59</td>\n",
       "      <td>2.87</td>\n",
       "      <td>21.0</td>\n",
       "      <td>118</td>\n",
       "      <td>2.80</td>\n",
       "      <td>2.69</td>\n",
       "      <td>0.39</td>\n",
       "      <td>1.82</td>\n",
       "      <td>4.32</td>\n",
       "      <td>1.04</td>\n",
       "      <td>2.93</td>\n",
       "      <td>735</td>\n",
       "    </tr>\n",
       "    <tr>\n",
       "      <th>...</th>\n",
       "      <td>...</td>\n",
       "      <td>...</td>\n",
       "      <td>...</td>\n",
       "      <td>...</td>\n",
       "      <td>...</td>\n",
       "      <td>...</td>\n",
       "      <td>...</td>\n",
       "      <td>...</td>\n",
       "      <td>...</td>\n",
       "      <td>...</td>\n",
       "      <td>...</td>\n",
       "      <td>...</td>\n",
       "      <td>...</td>\n",
       "      <td>...</td>\n",
       "    </tr>\n",
       "    <tr>\n",
       "      <th>173</th>\n",
       "      <td>3</td>\n",
       "      <td>13.71</td>\n",
       "      <td>5.65</td>\n",
       "      <td>2.45</td>\n",
       "      <td>20.5</td>\n",
       "      <td>95</td>\n",
       "      <td>1.68</td>\n",
       "      <td>0.61</td>\n",
       "      <td>0.52</td>\n",
       "      <td>1.06</td>\n",
       "      <td>7.70</td>\n",
       "      <td>0.64</td>\n",
       "      <td>1.74</td>\n",
       "      <td>740</td>\n",
       "    </tr>\n",
       "    <tr>\n",
       "      <th>174</th>\n",
       "      <td>3</td>\n",
       "      <td>13.40</td>\n",
       "      <td>3.91</td>\n",
       "      <td>2.48</td>\n",
       "      <td>23.0</td>\n",
       "      <td>102</td>\n",
       "      <td>1.80</td>\n",
       "      <td>0.75</td>\n",
       "      <td>0.43</td>\n",
       "      <td>1.41</td>\n",
       "      <td>7.30</td>\n",
       "      <td>0.70</td>\n",
       "      <td>1.56</td>\n",
       "      <td>750</td>\n",
       "    </tr>\n",
       "    <tr>\n",
       "      <th>175</th>\n",
       "      <td>3</td>\n",
       "      <td>13.27</td>\n",
       "      <td>4.28</td>\n",
       "      <td>2.26</td>\n",
       "      <td>20.0</td>\n",
       "      <td>120</td>\n",
       "      <td>1.59</td>\n",
       "      <td>0.69</td>\n",
       "      <td>0.43</td>\n",
       "      <td>1.35</td>\n",
       "      <td>10.20</td>\n",
       "      <td>0.59</td>\n",
       "      <td>1.56</td>\n",
       "      <td>835</td>\n",
       "    </tr>\n",
       "    <tr>\n",
       "      <th>176</th>\n",
       "      <td>3</td>\n",
       "      <td>13.17</td>\n",
       "      <td>2.59</td>\n",
       "      <td>2.37</td>\n",
       "      <td>20.0</td>\n",
       "      <td>120</td>\n",
       "      <td>1.65</td>\n",
       "      <td>0.68</td>\n",
       "      <td>0.53</td>\n",
       "      <td>1.46</td>\n",
       "      <td>9.30</td>\n",
       "      <td>0.60</td>\n",
       "      <td>1.62</td>\n",
       "      <td>840</td>\n",
       "    </tr>\n",
       "    <tr>\n",
       "      <th>177</th>\n",
       "      <td>3</td>\n",
       "      <td>14.13</td>\n",
       "      <td>4.10</td>\n",
       "      <td>2.74</td>\n",
       "      <td>24.5</td>\n",
       "      <td>96</td>\n",
       "      <td>2.05</td>\n",
       "      <td>0.76</td>\n",
       "      <td>0.56</td>\n",
       "      <td>1.35</td>\n",
       "      <td>9.20</td>\n",
       "      <td>0.61</td>\n",
       "      <td>1.60</td>\n",
       "      <td>560</td>\n",
       "    </tr>\n",
       "  </tbody>\n",
       "</table>\n",
       "<p>178 rows × 14 columns</p>\n",
       "</div>"
      ],
      "text/plain": [
       "     Class  Alcohol  Malic acid   Ash  Alcalinity of ash  Magnesium  \\\n",
       "0        1    14.23        1.71  2.43               15.6        127   \n",
       "1        1    13.20        1.78  2.14               11.2        100   \n",
       "2        1    13.16        2.36  2.67               18.6        101   \n",
       "3        1    14.37        1.95  2.50               16.8        113   \n",
       "4        1    13.24        2.59  2.87               21.0        118   \n",
       "..     ...      ...         ...   ...                ...        ...   \n",
       "173      3    13.71        5.65  2.45               20.5         95   \n",
       "174      3    13.40        3.91  2.48               23.0        102   \n",
       "175      3    13.27        4.28  2.26               20.0        120   \n",
       "176      3    13.17        2.59  2.37               20.0        120   \n",
       "177      3    14.13        4.10  2.74               24.5         96   \n",
       "\n",
       "     Total phenols  Flavanoids  Nonflavanoid phenols  Proanthocyanins  \\\n",
       "0             2.80        3.06                  0.28             2.29   \n",
       "1             2.65        2.76                  0.26             1.28   \n",
       "2             2.80        3.24                  0.30             2.81   \n",
       "3             3.85        3.49                  0.24             2.18   \n",
       "4             2.80        2.69                  0.39             1.82   \n",
       "..             ...         ...                   ...              ...   \n",
       "173           1.68        0.61                  0.52             1.06   \n",
       "174           1.80        0.75                  0.43             1.41   \n",
       "175           1.59        0.69                  0.43             1.35   \n",
       "176           1.65        0.68                  0.53             1.46   \n",
       "177           2.05        0.76                  0.56             1.35   \n",
       "\n",
       "     Color intensity   Hue  diluted wines  Proline      \n",
       "0               5.64  1.04           3.92         1065  \n",
       "1               4.38  1.05           3.40         1050  \n",
       "2               5.68  1.03           3.17         1185  \n",
       "3               7.80  0.86           3.45         1480  \n",
       "4               4.32  1.04           2.93          735  \n",
       "..               ...   ...            ...          ...  \n",
       "173             7.70  0.64           1.74          740  \n",
       "174             7.30  0.70           1.56          750  \n",
       "175            10.20  0.59           1.56          835  \n",
       "176             9.30  0.60           1.62          840  \n",
       "177             9.20  0.61           1.60          560  \n",
       "\n",
       "[178 rows x 14 columns]"
      ]
     },
     "execution_count": 61,
     "metadata": {},
     "output_type": "execute_result"
    }
   ],
   "source": [
    "df_wine=pd.read_csv('wine.csv')\n",
    "df_wine"
   ]
  },
  {
   "cell_type": "code",
   "execution_count": 62,
   "metadata": {},
   "outputs": [
    {
     "data": {
      "image/png": "[encoded data removed]",
      "text/plain": [
       "<Figure size 432x288 with 2 Axes>"
      ]
     },
     "metadata": {
      "needs_background": "light"
     },
     "output_type": "display_data"
    }
   ],
   "source": [
    "sns.heatmap(df_wine.isnull(),annot=True)\n",
    "plt.show()"
   ]
  },
  {
   "cell_type": "code",
   "execution_count": 63,
   "metadata": {},
   "outputs": [
    {
     "data": {
      "text/plain": [
       "Class                   0\n",
       "Alcohol                 0\n",
       "Malic acid              0\n",
       "Ash                     0\n",
       "Alcalinity of ash       0\n",
       "Magnesium               0\n",
       "Total phenols           0\n",
       "Flavanoids              0\n",
       "Nonflavanoid phenols    0\n",
       "Proanthocyanins         0\n",
       "Color intensity         0\n",
       "Hue                     0\n",
       "diluted wines           0\n",
       "Proline                 0\n",
       "dtype: int64"
      ]
     },
     "execution_count": 63,
     "metadata": {},
     "output_type": "execute_result"
    }
   ],
   "source": [
    "df_wine.isnull().sum()"
   ]
  },
  {
   "cell_type": "code",
   "execution_count": 64,
   "metadata": {},
   "outputs": [
    {
     "data": {
      "image/png": "[encoded data removed]",
      "text/plain": [
       "<Figure size 432x288 with 1 Axes>"
      ]
     },
     "metadata": {
      "needs_background": "light"
     },
     "output_type": "display_data"
    }
   ],
   "source": [
    "sns.lineplot(x=df_wine[\"Alcohol\"],y=df_wine[\"Class\"],data=df_wine)\n",
    "plt.show()"
   ]
  },
  {
   "cell_type": "code",
   "execution_count": 65,
   "metadata": {},
   "outputs": [
    {
     "data": {
      "image/png": "[encoded data removed]",
      "text/plain": [
       "<Figure size 432x288 with 1 Axes>"
      ]
     },
     "metadata": {
      "needs_background": "light"
     },
     "output_type": "display_data"
    }
   ],
   "source": [
    "sns.barplot(x=df_wine[\"Flavanoids\"],y=df_wine[\"Nonflavanoid phenols\"],data=df_wine)\n",
    "plt.show()"
   ]
  },
  {
   "cell_type": "code",
   "execution_count": 69,
   "metadata": {},
   "outputs": [
    {
     "data": {
      "image/png": "[encoded data removed]",
      "text/plain": [
       "<Figure size 432x288 with 1 Axes>"
      ]
     },
     "metadata": {
      "needs_background": "light"
     },
     "output_type": "display_data"
    }
   ],
   "source": [
    "sns.barplot(x=df_wine[\"Color intensity\"],y=df_wine[\"diluted wines\"],data=df_wine)\n",
    "plt.show()"
   ]
  },
  {
   "cell_type": "code",
   "execution_count": 71,
   "metadata": {},
   "outputs": [
    {
     "data": {
      "image/png": "[encoded data removed]",
      "text/plain": [
       "<Figure size 432x288 with 1 Axes>"
      ]
     },
     "metadata": {
      "needs_background": "light"
     },
     "output_type": "display_data"
    }
   ],
   "source": [
    "#Histogram shows normal distribution\n",
    "plt.hist(x=\"Alcohol\",bins=10,data=df_wine)\n",
    "plt.show()"
   ]
  },
  {
   "cell_type": "code",
   "execution_count": 72,
   "metadata": {},
   "outputs": [
    {
     "data": {
      "text/plain": [
       "Class                   0.107431\n",
       "Alcohol                -0.051482\n",
       "Malic acid              1.039651\n",
       "Ash                    -0.176699\n",
       "Alcalinity of ash       0.213047\n",
       "Magnesium               1.098191\n",
       "Total phenols           0.086639\n",
       "Flavanoids              0.025344\n",
       "Nonflavanoid phenols    0.450151\n",
       "Proanthocyanins         0.517137\n",
       "Color intensity         0.868585\n",
       "Hue                     0.021091\n",
       "diluted wines          -0.307285\n",
       "Proline                 0.767822\n",
       "dtype: float64"
      ]
     },
     "execution_count": 72,
     "metadata": {},
     "output_type": "execute_result"
    }
   ],
   "source": [
    "df_wine.skew()"
   ]
  },
  {
   "cell_type": "code",
   "execution_count": null,
   "metadata": {},
   "outputs": [],
   "source": []
  },
  {
   "cell_type": "code",
   "execution_count": 77,
   "metadata": {},
   "outputs": [
    {
     "name": "stdout",
     "output_type": "stream",
     "text": [
      "[[0.32287383 0.27433269 0.32026883 ... 0.32272707 0.31216029 3.5809643 ]\n",
      " [0.3139655  0.26856265 0.31106269 ... 0.31377942 0.30503379 3.58993534]\n",
      " [0.31314296 0.27302507 0.30865609 ... 0.31304398 0.30598376 3.59307285]\n",
      " ...\n",
      " [0.32508279 0.27700684 0.31909085 ... 0.33636449 0.33182372 3.56967799]\n",
      " [0.32399381 0.27667929 0.32590128 ... 0.33515948 0.33041407 3.57003318]\n",
      " [0.33874375 0.26096147 0.33105637 ... 0.35544632 0.34852768 3.55386418]]\n",
      "(178, 14)\n",
      "     Class  Alcohol  Malic acid   Ash  Alcalinity of ash  Magnesium  \\\n",
      "0        1    14.23        1.71  2.43               15.6        127   \n",
      "0        1    14.23        1.71  2.43               15.6        127   \n",
      "0        1    14.23        1.71  2.43               15.6        127   \n",
      "0        1    14.23        1.71  2.43               15.6        127   \n",
      "0        1    14.23        1.71  2.43               15.6        127   \n",
      "..     ...      ...         ...   ...                ...        ...   \n",
      "177      3    14.13        4.10  2.74               24.5         96   \n",
      "177      3    14.13        4.10  2.74               24.5         96   \n",
      "177      3    14.13        4.10  2.74               24.5         96   \n",
      "177      3    14.13        4.10  2.74               24.5         96   \n",
      "177      3    14.13        4.10  2.74               24.5         96   \n",
      "\n",
      "     Total phenols  Flavanoids  Nonflavanoid phenols  Proanthocyanins  \\\n",
      "0             2.80        3.06                  0.28             2.29   \n",
      "0             2.80        3.06                  0.28             2.29   \n",
      "0             2.80        3.06                  0.28             2.29   \n",
      "0             2.80        3.06                  0.28             2.29   \n",
      "0             2.80        3.06                  0.28             2.29   \n",
      "..             ...         ...                   ...              ...   \n",
      "177           2.05        0.76                  0.56             1.35   \n",
      "177           2.05        0.76                  0.56             1.35   \n",
      "177           2.05        0.76                  0.56             1.35   \n",
      "177           2.05        0.76                  0.56             1.35   \n",
      "177           2.05        0.76                  0.56             1.35   \n",
      "\n",
      "     Color intensity   Hue  diluted wines  Proline      \n",
      "0               5.64  1.04           3.92         1065  \n",
      "0               5.64  1.04           3.92         1065  \n",
      "0               5.64  1.04           3.92         1065  \n",
      "0               5.64  1.04           3.92         1065  \n",
      "0               5.64  1.04           3.92         1065  \n",
      "..               ...   ...            ...          ...  \n",
      "177             9.20  0.61           1.60          560  \n",
      "177             9.20  0.61           1.60          560  \n",
      "177             9.20  0.61           1.60          560  \n",
      "177             9.20  0.61           1.60          560  \n",
      "177             9.20  0.61           1.60          560  \n",
      "\n",
      "[2314 rows x 14 columns]\n"
     ]
    }
   ],
   "source": [
    "from scipy.stats import zscore\n",
    "z_score=abs(zscore(df_wine,axis=1))\n",
    "print(z_score)\n",
    "\n",
    "print(df_wine.shape)\n",
    "\n",
    "df_winef=df_wine.loc[(z_score<3)]\n",
    "print(df_winef)\n"
   ]
  },
  {
   "cell_type": "code",
   "execution_count": 78,
   "metadata": {},
   "outputs": [
    {
     "name": "stdout",
     "output_type": "stream",
     "text": [
      "     Class  Alcohol  Malic acid   Ash  Alcalinity of ash  Magnesium  \\\n",
      "0        1    14.23        1.71  2.43               15.6        127   \n",
      "0        1    14.23        1.71  2.43               15.6        127   \n",
      "0        1    14.23        1.71  2.43               15.6        127   \n",
      "0        1    14.23        1.71  2.43               15.6        127   \n",
      "0        1    14.23        1.71  2.43               15.6        127   \n",
      "..     ...      ...         ...   ...                ...        ...   \n",
      "177      3    14.13        4.10  2.74               24.5         96   \n",
      "177      3    14.13        4.10  2.74               24.5         96   \n",
      "177      3    14.13        4.10  2.74               24.5         96   \n",
      "177      3    14.13        4.10  2.74               24.5         96   \n",
      "177      3    14.13        4.10  2.74               24.5         96   \n",
      "\n",
      "     Total phenols  Flavanoids  Nonflavanoid phenols  Proanthocyanins  \\\n",
      "0             2.80        3.06                  0.28             2.29   \n",
      "0             2.80        3.06                  0.28             2.29   \n",
      "0             2.80        3.06                  0.28             2.29   \n",
      "0             2.80        3.06                  0.28             2.29   \n",
      "0             2.80        3.06                  0.28             2.29   \n",
      "..             ...         ...                   ...              ...   \n",
      "177           2.05        0.76                  0.56             1.35   \n",
      "177           2.05        0.76                  0.56             1.35   \n",
      "177           2.05        0.76                  0.56             1.35   \n",
      "177           2.05        0.76                  0.56             1.35   \n",
      "177           2.05        0.76                  0.56             1.35   \n",
      "\n",
      "     Color intensity   Hue  diluted wines  Proline      \n",
      "0               5.64  1.04           3.92         1065  \n",
      "0               5.64  1.04           3.92         1065  \n",
      "0               5.64  1.04           3.92         1065  \n",
      "0               5.64  1.04           3.92         1065  \n",
      "0               5.64  1.04           3.92         1065  \n",
      "..               ...   ...            ...          ...  \n",
      "177             9.20  0.61           1.60          560  \n",
      "177             9.20  0.61           1.60          560  \n",
      "177             9.20  0.61           1.60          560  \n",
      "177             9.20  0.61           1.60          560  \n",
      "177             9.20  0.61           1.60          560  \n",
      "\n",
      "[2314 rows x 14 columns]\n"
     ]
    }
   ],
   "source": [
    "print(df_winef)"
   ]
  },
  {
   "cell_type": "code",
   "execution_count": null,
   "metadata": {},
   "outputs": [],
   "source": []
  },
  {
   "cell_type": "code",
   "execution_count": 79,
   "metadata": {},
   "outputs": [],
   "source": [
    "#Linear Regression\n",
    "x=df_winef.iloc[:,0:13]\n",
    "y=df_winef.iloc[:,-1]"
   ]
  },
  {
   "cell_type": "code",
   "execution_count": null,
   "metadata": {},
   "outputs": [],
   "source": []
  },
  {
   "cell_type": "code",
   "execution_count": 82,
   "metadata": {},
   "outputs": [
    {
     "name": "stdout",
     "output_type": "stream",
     "text": [
      "[[-1.21394365  1.51861254 -0.5622498  ...  0.25171685  0.36217728\n",
      "   1.84791957]\n",
      " [-1.21394365  1.51861254 -0.5622498  ...  0.25171685  0.36217728\n",
      "   1.84791957]\n",
      " [-1.21394365  1.51861254 -0.5622498  ...  0.25171685  0.36217728\n",
      "   1.84791957]\n",
      " ...\n",
      " [ 1.37386437  1.39508604  1.58316512 ...  1.79166599 -1.52437837\n",
      "  -1.42894777]\n",
      " [ 1.37386437  1.39508604  1.58316512 ...  1.79166599 -1.52437837\n",
      "  -1.42894777]\n",
      " [ 1.37386437  1.39508604  1.58316512 ...  1.79166599 -1.52437837\n",
      "  -1.42894777]]\n",
      "[[ -4.07857421 -14.18331904  -2.6019647  ...  -2.0790927   -2.6116606\n",
      "   -1.07877555]\n",
      " [ -4.07857421 -14.18331904  -2.6019647  ...  -2.0790927   -2.6116606\n",
      "   -1.07877555]\n",
      " [ -4.07857421 -14.18331904  -2.6019647  ...  -2.0790927   -2.6116606\n",
      "   -1.07877555]\n",
      " ...\n",
      " [ -0.73019904 -14.335907    -0.6761048  ...  -1.41295693 -10.88861924\n",
      "   -5.70716327]\n",
      " [ -0.73019904 -14.335907    -0.6761048  ...  -1.41295693 -10.88861924\n",
      "   -5.70716327]\n",
      " [ -0.73019904 -14.335907    -0.6761048  ...  -1.41295693 -10.88861924\n",
      "   -5.70716327]]\n"
     ]
    }
   ],
   "source": [
    "from sklearn.preprocessing import StandardScaler\n",
    "sc=StandardScaler()\n",
    "x=sc.fit_transform(x)\n",
    "print(x)\n",
    " \n",
    "print(sc.transform(x))\n"
   ]
  },
  {
   "cell_type": "code",
   "execution_count": null,
   "metadata": {},
   "outputs": [],
   "source": []
  },
  {
   "cell_type": "code",
   "execution_count": 83,
   "metadata": {},
   "outputs": [
    {
     "name": "stdout",
     "output_type": "stream",
     "text": [
      "r2_score corresponding to random state: 42  is: 0.7362311072318097\n",
      "r2_score corresponding to random state: 43  is: 0.7021907223592703\n",
      "r2_score corresponding to random state: 44  is: 0.7344373073480147\n",
      "r2_score corresponding to random state: 45  is: 0.6893941981007545\n",
      "r2_score corresponding to random state: 46  is: 0.7265266506388834\n",
      "r2_score corresponding to random state: 47  is: 0.7174874234248823\n",
      "r2_score corresponding to random state: 48  is: 0.7085216600736368\n",
      "r2_score corresponding to random state: 49  is: 0.695103102398789\n",
      "r2_score corresponding to random state: 50  is: 0.6762815582365984\n",
      "r2_score corresponding to random state: 51  is: 0.7122037120424205\n",
      "r2_score corresponding to random state: 52  is: 0.7250691110259802\n",
      "r2_score corresponding to random state: 53  is: 0.7163056099161065\n",
      "r2_score corresponding to random state: 54  is: 0.7315492340043336\n",
      "r2_score corresponding to random state: 55  is: 0.6913728691240062\n",
      "r2_score corresponding to random state: 56  is: 0.7237192296764929\n",
      "r2_score corresponding to random state: 57  is: 0.705756457593042\n",
      "r2_score corresponding to random state: 58  is: 0.7350336755318455\n",
      "r2_score corresponding to random state: 59  is: 0.7302827433088286\n",
      "r2_score corresponding to random state: 60  is: 0.7032456706525985\n",
      "r2_score corresponding to random state: 61  is: 0.7173860309042974\n",
      "r2_score corresponding to random state: 62  is: 0.7732508720827287\n",
      "r2_score corresponding to random state: 63  is: 0.732461482731002\n",
      "r2_score corresponding to random state: 64  is: 0.7478764675656311\n",
      "r2_score corresponding to random state: 65  is: 0.70598163593649\n",
      "r2_score corresponding to random state: 66  is: 0.7137547391680739\n",
      "r2_score corresponding to random state: 67  is: 0.7241094184737236\n",
      "r2_score corresponding to random state: 68  is: 0.7374041902733154\n",
      "r2_score corresponding to random state: 69  is: 0.7280875112085101\n",
      "r2_score corresponding to random state: 70  is: 0.706307971507649\n",
      "r2_score corresponding to random state: 71  is: 0.6956249042417395\n",
      "r2_score corresponding to random state: 72  is: 0.7165845268600946\n",
      "r2_score corresponding to random state: 73  is: 0.7403879916254801\n",
      "r2_score corresponding to random state: 74  is: 0.7174786179842827\n",
      "r2_score corresponding to random state: 75  is: 0.6996753059472084\n",
      "r2_score corresponding to random state: 76  is: 0.7058089132909717\n",
      "r2_score corresponding to random state: 77  is: 0.7201871633537322\n",
      "r2_score corresponding to random state: 78  is: 0.7074945607453881\n",
      "r2_score corresponding to random state: 79  is: 0.7016475524981199\n",
      "r2_score corresponding to random state: 80  is: 0.7219807228030213\n",
      "r2_score corresponding to random state: 81  is: 0.7409371419810837\n",
      "r2_score corresponding to random state: 82  is: 0.698277143009091\n",
      "r2_score corresponding to random state: 83  is: 0.7298930603035425\n",
      "r2_score corresponding to random state: 84  is: 0.720309871966834\n",
      "r2_score corresponding to random state: 85  is: 0.719259361611563\n",
      "r2_score corresponding to random state: 86  is: 0.7315566288753854\n",
      "r2_score corresponding to random state: 87  is: 0.7237842465143924\n",
      "r2_score corresponding to random state: 88  is: 0.7241795989489018\n",
      "r2_score corresponding to random state: 89  is: 0.6784531830764661\n",
      "r2_score corresponding to random state: 90  is: 0.7093950376802218\n",
      "r2_score corresponding to random state: 91  is: 0.6905338064433799\n",
      "r2_score corresponding to random state: 92  is: 0.7494702754424458\n",
      "r2_score corresponding to random state: 93  is: 0.7169527401411804\n",
      "r2_score corresponding to random state: 94  is: 0.7063106426877991\n",
      "r2_score corresponding to random state: 95  is: 0.731782779079808\n",
      "r2_score corresponding to random state: 96  is: 0.7235551021253428\n",
      "r2_score corresponding to random state: 97  is: 0.711733192500931\n",
      "r2_score corresponding to random state: 98  is: 0.7240741696037183\n",
      "r2_score corresponding to random state: 99  is: 0.6918240574419412\n",
      "r2_score corresponding to random state: 100  is: 0.6824045864431199\n",
      "\n",
      "\n",
      "max_r2_score corresponding to  62 is  0.7732508720827287\n"
     ]
    }
   ],
   "source": [
    "from sklearn.model_selection import train_test_split\n",
    "from sklearn.metrics import mean_absolute_error\n",
    "from sklearn.metrics import mean_squared_error\n",
    "from sklearn.metrics import r2_score\n",
    "from sklearn import linear_model\n",
    "max_r_score=0\n",
    "for r_state in range(42,101):\n",
    "    x_train,x_test,y_train,y_test=train_test_split(x,y,random_state=r_state,test_size=0.20)\n",
    "    regr=linear_model.LinearRegression()\n",
    "    regr.fit(x_train,y_train)\n",
    "    y_pred=regr.predict(x_test)\n",
    "    r2_scr=r2_score(y_test,y_pred)\n",
    "    print(\"r2_score corresponding to random state:\",r_state,\" is:\",r2_scr)\n",
    "    if r2_scr>max_r_score:\n",
    "        max_r_score=r2_scr\n",
    "        final_r_state=r_state\n",
    "        \n",
    "        \n",
    "print()\n",
    "print()\n",
    "print(\"max_r2_score corresponding to \",final_r_state,\"is \",max_r_score)"
   ]
  },
  {
   "cell_type": "code",
   "execution_count": null,
   "metadata": {},
   "outputs": [],
   "source": []
  },
  {
   "cell_type": "code",
   "execution_count": 84,
   "metadata": {},
   "outputs": [
    {
     "data": {
      "text/plain": [
       "-1.5172294730291527"
      ]
     },
     "execution_count": 84,
     "metadata": {},
     "output_type": "execute_result"
    }
   ],
   "source": [
    "from sklearn.model_selection import cross_val_score\n",
    "cross_val_score(linear_model.LinearRegression(),x,y,cv=5,scoring=\"r2\").mean()"
   ]
  },
  {
   "cell_type": "code",
   "execution_count": null,
   "metadata": {},
   "outputs": [],
   "source": []
  },
  {
   "cell_type": "code",
   "execution_count": 85,
   "metadata": {},
   "outputs": [],
   "source": [
    "x_train,x_test,y_train,y_test=train_test_split(x,y,random_state=62,test_size=0.20)\n",
    "lr=linear_model.LinearRegression()\n",
    "lr.fit(x_train,y_train)\n",
    "y_pred=lr.predict(x_test)"
   ]
  },
  {
   "cell_type": "code",
   "execution_count": 86,
   "metadata": {},
   "outputs": [
    {
     "name": "stdout",
     "output_type": "stream",
     "text": [
      "r2 score is:  0.7732508720827287\n",
      "RMSE is: 149.82877717512338\n"
     ]
    }
   ],
   "source": [
    "from sklearn.metrics import mean_squared_error\n",
    "from sklearn.metrics import r2_score\n",
    "import numpy as np\n",
    "print(\"r2 score is: \",r2_score(y_test,y_pred))\n",
    "print(\"RMSE is:\" , np.sqrt(mean_squared_error(y_test,y_pred)))\n"
   ]
  },
  {
   "cell_type": "code",
   "execution_count": null,
   "metadata": {},
   "outputs": [],
   "source": []
  },
  {
   "cell_type": "code",
   "execution_count": 87,
   "metadata": {},
   "outputs": [
    {
     "data": {
      "text/plain": [
       "['lr_wine.pkl']"
      ]
     },
     "execution_count": 87,
     "metadata": {},
     "output_type": "execute_result"
    }
   ],
   "source": [
    "#saving the data file using joblib\n",
    "from sklearn.externals import joblib\n",
    "joblib.dump(lr,'lr_wine.pkl')"
   ]
  },
  {
   "cell_type": "code",
   "execution_count": null,
   "metadata": {},
   "outputs": [],
   "source": []
  },
  {
   "cell_type": "code",
   "execution_count": null,
   "metadata": {},
   "outputs": [],
   "source": []
  },
  {
   "cell_type": "code",
   "execution_count": null,
   "metadata": {},
   "outputs": [],
   "source": []
  },
  {
   "cell_type": "code",
   "execution_count": null,
   "metadata": {},
   "outputs": [],
   "source": []
  },
  {
   "cell_type": "code",
   "execution_count": null,
   "metadata": {},
   "outputs": [],
   "source": []
  },
  {
   "cell_type": "code",
   "execution_count": null,
   "metadata": {},
   "outputs": [],
   "source": []
  },
  {
   "cell_type": "code",
   "execution_count": null,
   "metadata": {},
   "outputs": [],
   "source": []
  },
  {
   "cell_type": "code",
   "execution_count": null,
   "metadata": {},
   "outputs": [],
   "source": []
  },
  {
   "cell_type": "code",
   "execution_count": null,
   "metadata": {},
   "outputs": [],
   "source": []
  },
  {
   "cell_type": "code",
   "execution_count": null,
   "metadata": {},
   "outputs": [],
   "source": []
  },
  {
   "cell_type": "code",
   "execution_count": null,
   "metadata": {},
   "outputs": [],
   "source": []
  },
  {
   "cell_type": "code",
   "execution_count": null,
   "metadata": {},
   "outputs": [],
   "source": []
  },
  {
   "cell_type": "code",
   "execution_count": null,
   "metadata": {},
   "outputs": [],
   "source": []
  },
  {
   "cell_type": "code",
   "execution_count": null,
   "metadata": {},
   "outputs": [],
   "source": []
  },
  {
   "cell_type": "code",
   "execution_count": null,
   "metadata": {},
   "outputs": [],
   "source": []
  },
  {
   "cell_type": "code",
   "execution_count": null,
   "metadata": {},
   "outputs": [],
   "source": []
  },
  {
   "cell_type": "code",
   "execution_count": null,
   "metadata": {},
   "outputs": [],
   "source": []
  },
  {
   "cell_type": "code",
   "execution_count": null,
   "metadata": {},
   "outputs": [],
   "source": []
  },
  {
   "cell_type": "code",
   "execution_count": null,
   "metadata": {},
   "outputs": [],
   "source": []
  }
 ],
 "metadata": {
  "kernelspec": {
   "display_name": "Python 3",
   "language": "python",
   "name": "python3"
  },
  "language_info": {
   "codemirror_mode": {
    "name": "ipython",
    "version": 3
   },
   "file_extension": ".py",
   "mimetype": "text/x-python",
   "name": "python",
   "nbconvert_exporter": "python",
   "pygments_lexer": "ipython3",
   "version": "3.7.6"
  }
 },
 "nbformat": 4,
 "nbformat_minor": 4
}
